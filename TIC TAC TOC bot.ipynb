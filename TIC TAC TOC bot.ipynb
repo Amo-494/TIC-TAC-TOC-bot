{
 "cells": [
  {
   "cell_type": "code",
   "execution_count": null,
   "id": "cb3ace56-724f-4a28-b476-cc9666814ad5",
   "metadata": {},
   "outputs": [
    {
     "name": "stdout",
     "output_type": "stream",
     "text": [
      "\n",
      ". . .\n",
      ". . .\n",
      ". . .\n"
     ]
    },
    {
     "name": "stdout",
     "output_type": "stream",
     "text": [
      "\n",
      "Player 1 what do you play ?  1 1\n",
      "\n",
      "Player 1 what do you play ?  1\n"
     ]
    },
    {
     "name": "stdout",
     "output_type": "stream",
     "text": [
      "\n",
      "Move #1: player 1 plays 1 :\n",
      "\n",
      "O . .\n",
      ". . .\n",
      ". . .\n",
      "\n",
      "Move #2: player 2 plays 5 :\n",
      "\n",
      "O . .\n",
      ". X .\n",
      ". . .\n"
     ]
    },
    {
     "name": "stdout",
     "output_type": "stream",
     "text": [
      "\n",
      "Player 1 what do you play ?  3\n"
     ]
    },
    {
     "name": "stdout",
     "output_type": "stream",
     "text": [
      "\n",
      "Move #3: player 1 plays 3 :\n",
      "\n",
      "O . O\n",
      ". X .\n",
      ". . .\n",
      "\n",
      "Move #4: player 2 plays 2 :\n",
      "\n",
      "O X O\n",
      ". X .\n",
      ". . .\n"
     ]
    }
   ],
   "source": [
    "from easyAI import TwoPlayerGame\n",
    "from easyAI.Player import Human_Player\n",
    "\n",
    "\n",
    "class TicTacToe(TwoPlayerGame):\n",
    "    def __init__(self, players):\n",
    "        self.players = players\n",
    "        self.board = [0 for i in range(9)]\n",
    "        self.current_player = 1\n",
    "\n",
    "    def possible_moves(self):\n",
    "        return [i + 1 for i, e in enumerate(self.board) if e == 0]\n",
    "\n",
    "    def make_move(self, move):\n",
    "        self.board[int(move) - 1] = self.current_player\n",
    "\n",
    "    def unmake_move(self, move):\n",
    "        self.board[int(move) - 1] = 0\n",
    "\n",
    "    def lose(self):\n",
    "        return any(\n",
    "            [\n",
    "                all([(self.board[c - 1] == self.opponent_index) for c in line])\n",
    "                for line in [\n",
    "                    [1, 2, 3],\n",
    "                    [4, 5, 6],\n",
    "                    [7, 8, 9],\n",
    "                    [1, 4, 7],\n",
    "                    [2, 5, 8],\n",
    "                    [3, 6, 9],\n",
    "                    [1, 5, 9],\n",
    "                    [3, 5, 7],\n",
    "                ]\n",
    "            ]\n",
    "        )  # diagonal\n",
    "\n",
    "    def is_over(self):\n",
    "        return (self.possible_moves() == []) or self.lose()\n",
    "\n",
    "    def show(self):\n",
    "        print(\n",
    "            \"\\n\"\n",
    "            + \"\\n\".join(\n",
    "                [\n",
    "                    \" \".join([[\".\", \"O\", \"X\"][self.board[3 * j + i]] for i in range(3)])\n",
    "                    for j in range(3)\n",
    "                ]\n",
    "            )\n",
    "        )\n",
    "\n",
    "    def scoring(self):\n",
    "        return -100 if self.lose() else 0\n",
    "\n",
    "\n",
    "if __name__ == \"__main__\":\n",
    "\n",
    "    from easyAI import AI_Player, Negamax\n",
    "\n",
    "    ai_algo = Negamax(6)\n",
    "    TicTacToe([Human_Player(), AI_Player(ai_algo)]).play()"
   ]
  },
  {
   "cell_type": "code",
   "execution_count": null,
   "id": "94172fd2-fab4-4ed1-8b81-953866724c77",
   "metadata": {},
   "outputs": [],
   "source": []
  }
 ],
 "metadata": {
  "kernelspec": {
   "display_name": "Python 3.10.4 64-bit",
   "language": "python",
   "name": "python3"
  },
  "language_info": {
   "codemirror_mode": {
    "name": "ipython",
    "version": 3
   },
   "file_extension": ".py",
   "mimetype": "text/x-python",
   "name": "python",
   "nbconvert_exporter": "python",
   "pygments_lexer": "ipython3",
   "version": "3.10.4"
  },
  "vscode": {
   "interpreter": {
    "hash": "07c97a22fb0965e27eaf2a1229a11326bfcdcea793b5f46509e3a47595f26577"
   }
  }
 },
 "nbformat": 4,
 "nbformat_minor": 5
}
